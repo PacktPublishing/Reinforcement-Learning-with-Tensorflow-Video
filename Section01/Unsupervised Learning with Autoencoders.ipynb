{
 "cells": [
  {
   "cell_type": "markdown",
   "metadata": {},
   "source": [
    "# 1.4 DEMO: Implementing the Autoencoder on Fashion-MNIST in Tensorflow"
   ]
  },
  {
   "cell_type": "code",
   "execution_count": 9,
   "metadata": {},
   "outputs": [],
   "source": [
    "import matplotlib.pyplot as plt\n",
    "%matplotlib inline\n",
    "\n",
    "import numpy as np\n",
    "import tensorflow as tf\n",
    "\n",
    "from keras.datasets import mnist, fashion_mnist\n",
    "\n",
    "# Not required, but a nice way to monitor progress\n",
    "from tqdm import tqdm, tqdm_notebook"
   ]
  },
  {
   "cell_type": "code",
   "execution_count": 2,
   "metadata": {},
   "outputs": [],
   "source": [
    "def import_fashion_mnist(flatten=True):\n",
    "    (x_train, y_train), (x_test, y_test) = fashion_mnist.load_data()\n",
    "    x_train, x_test = x_train/255, x_test/255\n",
    "    if flatten:\n",
    "        x_train = x_train.reshape(-1, 28*28)\n",
    "        x_test = x_test.reshape(-1, 28*28)\n",
    "    return (x_train, y_train), (x_test, y_test)\n",
    "\n",
    "def next_batch(num, data, labels):\n",
    "\n",
    "    '''\n",
    "    Return a total of `num` random samples and labels. \n",
    "    '''\n",
    "    idx = np.arange(0 , len(data))\n",
    "    np.random.shuffle(idx)\n",
    "    idx = idx[:num]\n",
    "    data_shuffle = data[idx]\n",
    "    labels_shuffle = labels[idx]\n",
    "    labels_shuffle = np.asarray(labels_shuffle.reshape(len(labels_shuffle), 1))\n",
    "\n",
    "    return data_shuffle, labels_shuffle"
   ]
  },
  {
   "cell_type": "code",
   "execution_count": 3,
   "metadata": {},
   "outputs": [],
   "source": [
    "(x_train, y_train), (x_test, y_test) = import_fashion_mnist(flatten=True)"
   ]
  },
  {
   "cell_type": "code",
   "execution_count": 15,
   "metadata": {},
   "outputs": [
    {
     "name": "stdout",
     "output_type": "stream",
     "text": [
      "0\n"
     ]
    },
    {
     "data": {
      "text/plain": [
       "(<matplotlib.image.AxesImage at 0x1d028ec35f8>, None)"
      ]
     },
     "execution_count": 15,
     "metadata": {},
     "output_type": "execute_result"
    },
    {
     "data": {
      "image/png": "[encoded data removed]",
      "text/plain": [
       "<matplotlib.figure.Figure at 0x1d028de3828>"
      ]
     },
     "metadata": {},
     "output_type": "display_data"
    }
   ],
   "source": [
    "ix = 4\n",
    "plt.imshow(x_train[ix].reshape(28, 28), cmap='gray_r'), print(y_train[ix])"
   ]
  },
  {
   "cell_type": "markdown",
   "metadata": {},
   "source": [
    "<img src=\"Deep Autoencoder.png\" width=\"50%\" height=\"50%\">"
   ]
  },
  {
   "cell_type": "code",
   "execution_count": 5,
   "metadata": {},
   "outputs": [],
   "source": [
    "def build_autoencoder(input_image, encode_dim=10):\n",
    "    \"\"\"Function for building our autoencoder\"\"\"    \n",
    "    # Our Encoder Takes the Input Image \n",
    "    # and learns representation at a lower dimension\n",
    "    interim_encoding = tf.layers.dense(inputs=input_image,\n",
    "                                       units=image_size / 2,\n",
    "                                       activation=tf.nn.relu)\n",
    "    \n",
    "    # Multiple layers of encoders allow for deeper representations\n",
    "    final_encoding = tf.layers.dense(interim_encoding,\n",
    "                                      encode_dim,\n",
    "                                      activation=tf.nn.relu)\n",
    "    \n",
    "    # We then 'undo' the representation symmetrically \n",
    "    interim_decoding = tf.layers.dense(final_encoding,\n",
    "                                       image_size / 2,\n",
    "                                       activation=tf.nn.relu)\n",
    "    \n",
    "    # Calculate loss by comparing logit with original image.\n",
    "    decoded_image = tf.layers.dense(interim_decoding,\n",
    "                             image_size,\n",
    "                             activation=tf.nn.sigmoid,\n",
    "                             name='decoded_image')\n",
    "    \n",
    "    # Average loss\n",
    "    loss = tf.reduce_mean(tf.squared_difference(input_image, decoded_image))\n",
    "    \n",
    "    return loss, decoded_image, final_encoding"
   ]
  },
  {
   "cell_type": "code",
   "execution_count": 6,
   "metadata": {
    "scrolled": true
   },
   "outputs": [
    {
     "data": {
      "application/vnd.jupyter.widget-view+json": {
       "model_id": "fdc4b49bfa43423b95e81227c08509e2",
       "version_major": 2,
       "version_minor": 0
      },
      "text/html": [
       "<p>Failed to display Jupyter Widget of type <code>HBox</code>.</p>\n",
       "<p>\n",
       "  If you're reading this message in the Jupyter Notebook or JupyterLab Notebook, it may mean\n",
       "  that the widgets JavaScript is still loading. If this message persists, it\n",
       "  likely means that the widgets JavaScript library is either not installed or\n",
       "  not enabled. See the <a href=\"https://ipywidgets.readthedocs.io/en/stable/user_install.html\">Jupyter\n",
       "  Widgets Documentation</a> for setup instructions.\n",
       "</p>\n",
       "<p>\n",
       "  If you're reading this message in another frontend (for example, a static\n",
       "  rendering on GitHub or <a href=\"https://nbviewer.jupyter.org/\">NBViewer</a>),\n",
       "  it may mean that your frontend doesn't currently support widgets.\n",
       "</p>\n"
      ],
      "text/plain": [
       "HBox(children=(IntProgress(value=0, max=50), HTML(value='')))"
      ]
     },
     "metadata": {},
     "output_type": "display_data"
    },
    {
     "name": "stdout",
     "output_type": "stream",
     "text": [
      "Training Loss: 30.28383654728532\n",
      "Training Loss: 14.02302373200655\n",
      "Training Loss: 11.248081659898162\n",
      "Training Loss: 10.163791812956333\n",
      "Training Loss: 9.561662293970585\n",
      "Training Loss: 9.168607791885734\n",
      "Training Loss: 8.845759904012084\n",
      "Training Loss: 8.632157143205404\n",
      "Training Loss: 8.443416123278439\n",
      "Training Loss: 8.322799572721124\n",
      "Training Loss: 8.180832357145846\n",
      "Training Loss: 8.06597344763577\n",
      "Training Loss: 7.97075121384114\n",
      "Training Loss: 7.824683024547994\n",
      "Training Loss: 7.730016031302512\n",
      "Training Loss: 7.6732197208330035\n",
      "Training Loss: 7.599026337265968\n",
      "Training Loss: 7.502313437871635\n",
      "Training Loss: 7.477173324674368\n",
      "Training Loss: 7.390322069637477\n",
      "Training Loss: 7.376691367477179\n",
      "Training Loss: 7.281380848027766\n",
      "Training Loss: 7.2329314816743135\n",
      "Training Loss: 7.22268976829946\n",
      "Training Loss: 7.155859887599945\n",
      "Training Loss: 7.137935172766447\n",
      "Training Loss: 7.066427094861865\n",
      "Training Loss: 7.079430161044002\n",
      "Training Loss: 7.039946490898728\n",
      "Training Loss: 7.045762890949845\n",
      "Training Loss: 6.997635548003018\n",
      "Training Loss: 6.931048131547868\n",
      "Training Loss: 6.898057982325554\n",
      "Training Loss: 6.900678888894618\n",
      "Training Loss: 6.849385131150484\n",
      "Training Loss: 6.812089457176626\n",
      "Training Loss: 6.794722894206643\n",
      "Training Loss: 6.775904016569257\n",
      "Training Loss: 6.76610195916146\n",
      "Training Loss: 6.7492758529260755\n",
      "Training Loss: 6.711148450151086\n",
      "Training Loss: 6.709643637761474\n",
      "Training Loss: 6.67405862826854\n",
      "Training Loss: 6.671009057201445\n",
      "Training Loss: 6.631969075649977\n",
      "Training Loss: 6.649220384657383\n",
      "Training Loss: 6.605452427640557\n",
      "Training Loss: 6.6344776423648\n",
      "Training Loss: 6.5934195425361395\n",
      "Training Loss: 6.541787241585553\n",
      "\n"
     ]
    }
   ],
   "source": [
    "# Ensures that we build out graph from scratch\n",
    "tf.reset_default_graph()\n",
    "# Placeholder for our inputs\n",
    "image_size = x_train.shape[1]\n",
    "input_image = tf.placeholder(tf.float32,\n",
    "                             shape=(None, image_size),\n",
    "                             name='input_image')\n",
    "\n",
    "# Build the model\n",
    "loss, decoded, encoded = build_autoencoder(input_image, encode_dim=10)\n",
    "\n",
    "# Initialize our optimizer\n",
    "optim = tf.train.AdamOptimizer(1e-4).minimize(loss)\n",
    "\n",
    "epochs = 50\n",
    "batch_size = 128\n",
    "sess = tf.Session()\n",
    "sess.run(tf.global_variables_initializer())\n",
    "for epoch in tqdm_notebook(range(epochs)):\n",
    "    epoch_loss = 0\n",
    "    for batch in range(x_train.shape[0]//batch_size):\n",
    "        x, y = next_batch(batch_size, x_train, y_train)\n",
    "        feed = {input_image: x}\n",
    "        batch_loss, _ = sess.run([loss, optim], feed_dict=feed)\n",
    "        epoch_loss += batch_loss\n",
    "    tqdm.write(f\"Training Loss: {epoch_loss}\")"
   ]
  },
  {
   "cell_type": "code",
   "execution_count": 7,
   "metadata": {},
   "outputs": [
    {
     "data": {
      "image/png": "[encoded data removed]",
      "text/plain": [
       "<matplotlib.figure.Figure at 0x1cf32d8b470>"
      ]
     },
     "metadata": {},
     "output_type": "display_data"
    }
   ],
   "source": [
    "n_img = 10\n",
    "fig, axes = plt.subplots(nrows=2, ncols=n_img, sharex=True, sharey=True, figsize=(20,4))\n",
    "reconstructed, compressed = sess.run([decoded, encoded], feed_dict={input_image: x_train})\n",
    "\n",
    "for images, row in zip([x_train[:n_img], reconstructed[:n_img]], axes):\n",
    "    for img, ax in zip(images, row):\n",
    "        ax.imshow(img.reshape((28, 28)), cmap='Greys')\n",
    "        ax.get_xaxis().set_visible(False)\n",
    "        ax.get_yaxis().set_visible(False)\n",
    "\n",
    "fig.tight_layout(pad=0.1)"
   ]
  },
  {
   "cell_type": "code",
   "execution_count": 8,
   "metadata": {},
   "outputs": [
    {
     "data": {
      "image/png": "[encoded data removed]",
      "text/plain": [
       "<matplotlib.figure.Figure at 0x1d023f824a8>"
      ]
     },
     "metadata": {},
     "output_type": "display_data"
    }
   ],
   "source": [
    "fix, axes = plt.subplots(nrows=1, ncols=10, sharex=True, sharey=True, figsize=(20, 5))\n",
    "for img, ax in zip(compressed[:n_img], axes):\n",
    "    ax.imshow(img.reshape((5, 2)), cmap='Greys')\n",
    "    ax.get_xaxis().set_visible(False)\n",
    "    ax.get_yaxis().set_visible(False)"
   ]
  }
 ],
 "metadata": {
  "kernelspec": {
   "display_name": "Python 3",
   "language": "python",
   "name": "python3"
  },
  "language_info": {
   "codemirror_mode": {
    "name": "ipython",
    "version": 3
   },
   "file_extension": ".py",
   "mimetype": "text/x-python",
   "name": "python",
   "nbconvert_exporter": "python",
   "pygments_lexer": "ipython3",
   "version": "3.6.4"
  }
 },
 "nbformat": 4,
 "nbformat_minor": 2
}
